{
 "cells": [
  {
   "cell_type": "markdown",
   "metadata": {},
   "source": [
    "#### import pakage "
   ]
  },
  {
   "cell_type": "code",
   "execution_count": 2,
   "metadata": {},
   "outputs": [
    {
     "name": "stdout",
     "output_type": "stream",
     "text": [
      "pygame 2.0.1 (SDL 2.0.14, Python 3.8.3)\n",
      "Hello from the pygame community. https://www.pygame.org/contribute.html\n"
     ]
    }
   ],
   "source": [
    "import random, pygame, sys\n",
    "from pygame.locals import *"
   ]
  },
  {
   "cell_type": "markdown",
   "metadata": {},
   "source": [
    "#### constraints for GUI"
   ]
  },
  {
   "cell_type": "markdown",
   "metadata": {},
   "source": [
    "we defined the constraints to encrease the readability of our code"
   ]
  },
  {
   "cell_type": "code",
   "execution_count": 8,
   "metadata": {},
   "outputs": [],
   "source": [
    "FPS = 30 # frames per second, the general speed of the program\n",
    "WINDOWWIDTH = 640 # size of window's width in pixels\n",
    "WINDOWHEIGHT = 480 # size of windows' height in pixels\n",
    "REVEALSPEED = 8 # speed boxes' sliding reveals and covers\n",
    "BOXSIZE = 40 # size of box height & width in pixels\n",
    "GAPSIZE = 10 # size of gap between boxes in pixels\n",
    "BOARDWIDTH = 10 # number of columns of icons\n",
    "BOARDHEIGHT = 7 # number of rows of icons"
   ]
  },
  {
   "cell_type": "markdown",
   "metadata": {},
   "source": [
    "assert keyword to ensure we have an even number, 'Board needs to have an even number of boxes for pairs of matches.' it'is appear in if result is not even "
   ]
  },
  {
   "cell_type": "code",
   "execution_count": 9,
   "metadata": {},
   "outputs": [],
   "source": [
    "assert (BOARDWIDTH * BOARDHEIGHT) % 2 == 0, 'Board needs to have an even number of boxes for pairs of matches.'"
   ]
  },
  {
   "cell_type": "markdown",
   "metadata": {},
   "source": [
    "calculation for the XMARGIN constant, how many pixels are on the side of the entire board.\n",
    "XMARGIN = int((640 – (10 * (40 + 10))) / 2) if we insted numbers with above constraints and YMARGIN  the same"
   ]
  },
  {
   "cell_type": "code",
   "execution_count": 10,
   "metadata": {},
   "outputs": [],
   "source": [
    "XMARGIN = int((WINDOWWIDTH - (BOARDWIDTH * (BOXSIZE + GAPSIZE))) / 2)\n",
    "YMARGIN = int((WINDOWHEIGHT - (BOARDHEIGHT * (BOXSIZE + GAPSIZE))) / 2)"
   ]
  },
  {
   "cell_type": "markdown",
   "metadata": {},
   "source": [
    "colors and shapes "
   ]
  },
  {
   "cell_type": "code",
   "execution_count": null,
   "metadata": {},
   "outputs": [],
   "source": [
    "#            R    G    B\n",
    "GRAY     = (100, 100, 100)\n",
    "NAVYBLUE = ( 60,  60, 100)\n",
    "WHITE    = (255, 255, 255)\n",
    "RED      = (255,   0,   0)\n",
    "GREEN    = (  0, 255,   0)\n",
    "BLUE     = (  0,   0, 255)\n",
    "YELLOW   = (255, 255,   0)\n",
    "ORANGE   = (255, 128,   0)\n",
    "PURPLE   = (255,   0, 255)\n",
    "CYAN     = (  0, 255, 255)\n",
    "\n",
    "BGCOLOR = NAVYBLUE\n",
    "LIGHTBGCOLOR = GRAY\n",
    "BOXCOLOR = WHITE\n",
    "HIGHLIGHTCOLOR = BLUE\n",
    "\n",
    "DONUT = 'donut'\n",
    "SQUARE = 'square'\n",
    "DIAMOND = 'diamond'\n",
    "LINES = 'lines'\n",
    "OVAL = 'oval'\n",
    "\n",
    "ALLCOLORS = (RED, GREEN, BLUE, YELLOW, ORANGE, PURPLE, CYAN)\n",
    "ALLSHAPES = (DONUT, SQUARE, DIAMOND, LINES, OVAL)\n",
    "assert len(ALLCOLORS) * len(ALLSHAPES) * 2 >= BOARDWIDTH * BOARDHEIGHT, \"Board is too big for the number of shapes/colors defined.\""
   ]
  },
  {
   "cell_type": "code",
   "execution_count": null,
   "metadata": {},
   "outputs": [],
   "source": []
  }
 ],
 "metadata": {
  "kernelspec": {
   "display_name": "Python 3",
   "language": "python",
   "name": "python3"
  },
  "language_info": {
   "codemirror_mode": {
    "name": "ipython",
    "version": 3
   },
   "file_extension": ".py",
   "mimetype": "text/x-python",
   "name": "python",
   "nbconvert_exporter": "python",
   "pygments_lexer": "ipython3",
   "version": "3.8.3"
  }
 },
 "nbformat": 4,
 "nbformat_minor": 4
}
