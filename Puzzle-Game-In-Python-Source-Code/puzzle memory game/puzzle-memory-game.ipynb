{
 "cells": [
  {
   "cell_type": "markdown",
   "metadata": {},
   "source": [
    "# import pakage"
   ]
  },
  {
   "cell_type": "code",
   "execution_count": 1,
   "metadata": {},
   "outputs": [
    {
     "name": "stdout",
     "output_type": "stream",
     "text": [
      "pygame 2.0.1 (SDL 2.0.14, Python 3.8.5)\n",
      "Hello from the pygame community. https://www.pygame.org/contribute.html\n"
     ]
    }
   ],
   "source": [
    "import random, pygame, sys\n",
    "from pygame.locals import *"
   ]
  },
  {
   "cell_type": "markdown",
   "metadata": {},
   "source": [
    "#### constraints for GUI"
   ]
  },
  {
   "cell_type": "markdown",
   "metadata": {},
   "source": [
    "we defined the constraints to encrease the readability of our code"
   ]
  },
  {
   "cell_type": "code",
   "execution_count": 2,
   "metadata": {},
   "outputs": [],
   "source": [
    "FPS = 30 # frames per second, the general speed of the program\n",
    "WINDOWWIDTH = 640 # size of window's width in pixels\n",
    "WINDOWHEIGHT = 480 # size of windows' height in pixels\n",
    "REVEALSPEED = 8 # speed boxes' sliding reveals and covers\n",
    "BOXSIZE = 40 # size of box height & width in pixels\n",
    "GAPSIZE = 10 # size of gap between boxes in pixels\n",
    "BOARDWIDTH = 10 # number of columns of icons\n",
    "BOARDHEIGHT = 7 # number of rows of icons"
   ]
  },
  {
   "cell_type": "markdown",
   "metadata": {},
   "source": [
    "assert keyword to ensure we have an even number, 'Board needs to have an even number of boxes for pairs of matches.' it'is appear in if result is not even "
   ]
  },
  {
   "cell_type": "code",
   "execution_count": 3,
   "metadata": {},
   "outputs": [],
   "source": [
    "assert (BOARDWIDTH * BOARDHEIGHT) % 2 == 0, 'Board needs to have an even number of boxes for pairs of matches.'"
   ]
  },
  {
   "cell_type": "markdown",
   "metadata": {},
   "source": [
    "calculation for the XMARGIN constant, how many pixels are on the side of the entire board.\\n\",\n",
    "    \"XMARGIN = int((640 – (10 * (40 + 10))) / 2) if we insted numbers with above constraints and YMARGIN  the same"
   ]
  },
  {
   "cell_type": "code",
   "execution_count": 4,
   "metadata": {},
   "outputs": [],
   "source": [
    "XMARGIN = int((WINDOWWIDTH - (BOARDWIDTH * (BOXSIZE + GAPSIZE))) / 2)\n",
    "YMARGIN = int((WINDOWHEIGHT - (BOARDHEIGHT * (BOXSIZE + GAPSIZE))) / 2)\n"
   ]
  },
  {
   "cell_type": "markdown",
   "metadata": {},
   "source": [
    "colors and shapes"
   ]
  },
  {
   "cell_type": "code",
   "execution_count": 5,
   "metadata": {},
   "outputs": [],
   "source": [
    "#            R    G    B\n",
    "GRAY     = (100, 100, 100)\n",
    "NAVYBLUE = ( 60,  60, 100)\n",
    "WHITE    = (255, 255, 255)\n",
    "RED      = (255,   0,   0)\n",
    "GREEN    = (  0, 255,   0)\n",
    "BLUE     = (  0,   0, 255)\n",
    "YELLOW   = (255, 255,   0)\n",
    "ORANGE   = (255, 128,   0)\n",
    "PURPLE   = (255,   0, 255)\n",
    "CYAN     = (  0, 255, 255)\n",
    "\n",
    "BGCOLOR = NAVYBLUE\n",
    "LIGHTBGCOLOR = GRAY\n",
    "BOXCOLOR = WHITE\n",
    "HIGHLIGHTCOLOR = BLUE\n",
    "\n",
    "DONUT = 'donut'\n",
    "SQUARE = 'square'\n",
    "DIAMOND = 'diamond'\n",
    "LINES = 'lines'\n",
    "OVAL = 'oval'\n"
   ]
  },
  {
   "cell_type": "markdown",
   "metadata": {},
   "source": [
    "ALLCOLORS = (RED, GREEN, BLUE, YELLOW, ORANGE, PURPLE, CYAN),ALLSHAPES = (DONUT, SQUARE, DIAMOND, LINES, OVAL),"
   ]
  },
  {
   "cell_type": "code",
   "execution_count": 6,
   "metadata": {},
   "outputs": [],
   "source": [
    "ALLCOLORS = (RED, GREEN, BLUE, YELLOW, ORANGE, PURPLE, CYAN)\n",
    "ALLSHAPES = (DONUT, SQUARE, DIAMOND, LINES, OVAL)\n",
    "assert len(ALLCOLORS) * len(ALLSHAPES) * 2 >= BOARDWIDTH * BOARDHEIGHT, \"Board is too big for the number of shapes/colors defined.\""
   ]
  },
  {
   "cell_type": "markdown",
   "metadata": {},
   "source": [
    "# The global statement"
   ]
  },
  {
   "cell_type": "markdown",
   "metadata": {},
   "source": [
    "define main function,\n",
    "define 2 virable and make it global FPSCLOCK, DISPLAYSURF,\n",
    "begin pygame,\n",
    "DISPLAYSURF to start the game page,\n",
    "mousex and mousey store coordinate of mouse,\n",
    "set page caption is memory game"
   ]
  },
  {
   "cell_type": "markdown",
   "metadata": {},
   "source": [
    "## The Start Game Animation"
   ]
  },
  {
   "cell_type": "markdown",
   "metadata": {},
   "source": [
    "When the player clicks on an icon on the board, the program needs to track if this was the first icon of the pair that was clicked on or the second icon.\n",
    "If firstSelection is None, the click was on the first icon and we store the XY coordinates in the firstSelection variable as a tuple of two integers (one for the X value, the other for Y).\n",
    "On the second click the value will be this tuple and not None, which is how the program tracks that it is the second icon click."
   ]
  },
  {
   "cell_type": "markdown",
   "metadata": {},
   "source": [
    "## git normalize board set boundary of board anymation"
   ]
  },
  {
   "cell_type": "markdown",
   "metadata": {},
   "source": [
    "## Handling If the Player Won"
   ]
  },
  {
   "cell_type": "markdown",
   "metadata": {},
   "source": [
    "if condition was False The program doesn’t really have to do anything elseif this was the last pair of icons on the board to be matched. This is done inside our hasWon() function, which returns True if the board is in a winning state\n",
    "then call function gameWonAnimation()\n",
    "plays the “start game” animation again\n",
    "set the firstSelection variable back to None"
   ]
  },
  {
   "cell_type": "code",
   "execution_count": 7,
   "metadata": {},
   "outputs": [],
   "source": [
    "def main():\n",
    "    global FPSCLOCK, DISPLAYSURF\n",
    "    pygame.init()\n",
    "    FPSCLOCK = pygame.time.Clock()\n",
    "    DISPLAYSURF = pygame.display.set_mode((WINDOWWIDTH, WINDOWHEIGHT))\n",
    "\n",
    "    mousex = 0 # used to store x coordinate of mouse event\n",
    "    mousey = 0 # used to store y coordinate of mouse event\n",
    "    pygame.display.set_caption('Memory Game')\n",
    "\n",
    "    mainBoard = getRandomizedBoard()\n",
    "    revealedBoxes = generateRevealedBoxesData(False)\n",
    "\n",
    "    firstSelection = None # stores the (x, y) of the first box clicked.\n",
    "\n",
    "    DISPLAYSURF.fill(BGCOLOR)\n",
    "    startGameAnimation(mainBoard)\n",
    "\n",
    "    while True: # main game loop\n",
    "        mouseClicked = False\n",
    "\n",
    "        DISPLAYSURF.fill(BGCOLOR) # drawing the window\n",
    "        drawBoard(mainBoard, revealedBoxes)\n",
    "\n",
    "        for event in pygame.event.get(): # event handling loop\n",
    "            if event.type == QUIT or (event.type == KEYUP and event.key == K_ESCAPE):\n",
    "                pygame.quit()\n",
    "                sys.exit()\n",
    "            elif event.type == MOUSEMOTION:\n",
    "                mousex, mousey = event.pos\n",
    "            elif event.type == MOUSEBUTTONUP:\n",
    "                mousex, mousey = event.pos\n",
    "                mouseClicked = True\n",
    "\n",
    "        boxx, boxy = getBoxAtPixel(mousex, mousey)\n",
    "        if boxx != None and boxy != None:\n",
    "            # The mouse is currently over a box.\n",
    "            if not revealedBoxes[boxx][boxy]:\n",
    "                drawHighlightBox(boxx, boxy)\n",
    "            if not revealedBoxes[boxx][boxy] and mouseClicked:\n",
    "                revealBoxesAnimation(mainBoard, [(boxx, boxy)])\n",
    "                revealedBoxes[boxx][boxy] = True # set the box as \"revealed\"\n",
    "                if firstSelection == None: # the current box was the first box clicked\n",
    "                    firstSelection = (boxx, boxy)\n",
    "                else: # the current box was the second box clicked\n",
    "                    # Check if there is a match between the two icons.\n",
    "                    icon1shape, icon1color = getShapeAndColor(mainBoard, firstSelection[0], firstSelection[1])\n",
    "                    icon2shape, icon2color = getShapeAndColor(mainBoard, boxx, boxy)\n",
    "\n",
    "                    if icon1shape != icon2shape or icon1color != icon2color:\n",
    "                        # Icons don't match. Re-cover up both selections.\n",
    "                        pygame.time.wait(1000) # 1000 milliseconds = 1 sec\n",
    "                        coverBoxesAnimation(mainBoard, [(firstSelection[0], firstSelection[1]), (boxx, boxy)])\n",
    "                        revealedBoxes[firstSelection[0]][firstSelection[1]] = False\n",
    "                        revealedBoxes[boxx][boxy] = False\n",
    "                    elif hasWon(revealedBoxes): # check if all pairs found\n",
    "                        gameWonAnimation(mainBoard)\n",
    "                        pygame.time.wait(2000)\n",
    "\n",
    "                        # Reset the board\n",
    "                        mainBoard = getRandomizedBoard()\n",
    "                        revealedBoxes = generateRevealedBoxesData(False)\n",
    "\n",
    "                        # Show the fully unrevealed board for a second.\n",
    "                        drawBoard(mainBoard, revealedBoxes)\n",
    "                        pygame.display.update()\n",
    "                        pygame.time.wait(1000)\n",
    "\n",
    "                        # Replay the start game animation.\n",
    "                        startGameAnimation(mainBoard)\n",
    "                    firstSelection = None # reset firstSelection variable\n",
    "\n",
    "        # Redraw the screen and wait a clock tick.\n",
    "        pygame.display.update()\n",
    "        FPSCLOCK.tick(FPS)\n",
    "        # Redraw the screen and wait a clock tick.\n",
    "        pygame.display.update()\n",
    "        FPSCLOCK.tick(FPS)\n",
    "        \n",
    "       \n",
    "       \n"
   ]
  },
  {
   "cell_type": "markdown",
   "metadata": {},
   "source": [
    "### Drawing the Game State to the Screen"
   ]
  },
  {
   "cell_type": "markdown",
   "metadata": {},
   "source": [
    "the game state has been updated depending on the player’s input we call pygame.display.update() to draw the DISPLAYSURF Surface object to the computer screen. "
   ]
  },
  {
   "cell_type": "code",
   "execution_count": 8,
   "metadata": {},
   "outputs": [],
   "source": [
    "def generateRevealedBoxesData(val):\n",
    "    revealedBoxes = []\n",
    "    for i in range(BOARDWIDTH):\n",
    "        revealedBoxes.append([val] * BOARDHEIGHT)\n",
    "    return revealedBoxes"
   ]
  },
  {
   "cell_type": "markdown",
   "metadata": {},
   "source": [
    "## Creating the Board Data Structure: "
   ]
  },
  {
   "cell_type": "markdown",
   "metadata": {},
   "source": [
    "The board data structure is just a list of lists of tuples \n",
    "where each tuple has a two values: one for the icon’s shape and one for the icon’s color\n",
    "we need to ensure that we have exactly as many icons for the number of boxes on the board and also be sure there are two and only two icons of each type.\n",
    "making this with 3 steps."
   ]
  },
  {
   "cell_type": "markdown",
   "metadata": {},
   "source": [
    "Step 1 – Get All Possible Icons:\n",
    "    The first step to do this is to create a list with every possible combination of shape and color. \n",
    "    "
   ]
  },
  {
   "cell_type": "markdown",
   "metadata": {},
   "source": [
    "step2 - Shuffling and Truncating the List of All Icons:\n",
    "    there may be more possible combinations than spaces on the board. We need to calculate the number of spaces on the board"
   ]
  },
  {
   "cell_type": "markdown",
   "metadata": {},
   "source": [
    "step 3 - Placing the Icons on the Board:\n",
    "    Now we need to create a list of lists data structure for the board"
   ]
  },
  {
   "cell_type": "code",
   "execution_count": 9,
   "metadata": {},
   "outputs": [],
   "source": [
    "def getRandomizedBoard():\n",
    "    # Get a list of every possible shape in every possible color.\n",
    "    #step 1\n",
    "    icons = []\n",
    "    for color in ALLCOLORS:\n",
    "        for shape in ALLSHAPES:\n",
    "            icons.append( (shape, color) )\n",
    "        #step 2\n",
    "    random.shuffle(icons) # randomize the order of the icons list\n",
    "    numIconsUsed = int(BOARDWIDTH * BOARDHEIGHT / 2) # calculate how many icons are needed\n",
    "    icons = icons[:numIconsUsed] * 2 # make two of each\n",
    "    random.shuffle(icons)\n",
    "\n",
    "    # Create the board data structure, with randomly placed icons.\n",
    "    #step 3\n",
    "    board = []\n",
    "    for x in range(BOARDWIDTH):\n",
    "        column = []\n",
    "        for y in range(BOARDHEIGHT):\n",
    "            column.append(icons[0])\n",
    "            del icons[0] # remove the icons as we assign them\n",
    "        board.append(column)\n",
    "    return board"
   ]
  },
  {
   "cell_type": "markdown",
   "metadata": {},
   "source": [
    "### Splitting a List into a List of Lists"
   ]
  },
  {
   "cell_type": "markdown",
   "metadata": {},
   "source": [
    "we define splitIntoGroupsOf that take groupSize, theList as a parametar \n",
    "create a empty list result \n",
    "and looping from 0 to length of list and add parametar by groupSize\n",
    "then append that item in result \n",
    "then return result"
   ]
  },
  {
   "cell_type": "code",
   "execution_count": 10,
   "metadata": {},
   "outputs": [],
   "source": [
    "def splitIntoGroupsOf(groupSize, theList):\n",
    "    # splits a list into a list of lists, where the inner lists have at\n",
    "    # most groupSize number of items.\n",
    "    result = []\n",
    "    for i in range(0, len(theList), groupSize):\n",
    "        result.append(theList[i:i + groupSize])\n",
    "    return result"
   ]
  },
  {
   "cell_type": "code",
   "execution_count": null,
   "metadata": {},
   "outputs": [],
   "source": []
  },
  {
   "cell_type": "markdown",
   "metadata": {},
   "source": [
    "### Different Coordinate Systems"
   ]
  },
  {
   "cell_type": "markdown",
   "metadata": {},
   "source": [
    "we will follow multiple Cartesian Coordinate systems,One system of coordinates that is used in the Memory Puzzle game is for the pixel or screen coordinates. But we will also be using another coordinate system for the boxes. This is because it will be easier to use (3, 2) to refer to the 4th box from the left and 3rd from the top "
   ]
  },
  {
   "cell_type": "markdown",
   "metadata": {},
   "source": [
    "The leftTopCoordsOfBox() function will take box coordinates and return pixel coordinates. Because a box takes up multiple pixels on the screen, we will always return the single pixel at the top left corner of the box. This value will be returned as a two-integer tuple. The leftTopCoordsOfBox() function will often be used when we need pixel coordinates for drawing these boxes."
   ]
  },
  {
   "cell_type": "code",
   "execution_count": 11,
   "metadata": {},
   "outputs": [],
   "source": [
    "def leftTopCoordsOfBox(boxx, boxy):\n",
    "     # Convert board coordinates to pixel coordinates\n",
    "     left = boxx * (BOXSIZE + GAPSIZE) + XMARGIN\n",
    "     top = boxy * (BOXSIZE + GAPSIZE) + YMARGIN\n",
    "     return (left, top)"
   ]
  },
  {
   "cell_type": "markdown",
   "metadata": {},
   "source": [
    "We will also need a function to convert from pixel coordinates (which the mouse clicks and mouse movement events use) to box coordinates (so we can find out over which box the mouse event happened). Rect objects have a collidepoint() method that you can pass X and Y coordinates too and it will return True if the coordinates are inside (that is, collide with) the Rect object’s area"
   ]
  },
  {
   "cell_type": "markdown",
   "metadata": {},
   "source": [
    "In order to find which box the mouse coordinates are over, we will go through each box’s coordinates and call the collidepoint() method on a Rect object with those coordinates. When collidepoint() returns True, we know we have found the box that was clicked on or moved over and will return the box coordinates. If none of them return True, then the getBoxAtPixel() function will return the value (None, None)"
   ]
  },
  {
   "cell_type": "code",
   "execution_count": 12,
   "metadata": {},
   "outputs": [],
   "source": [
    "def getBoxAtPixel(x, y):\n",
    "    for boxx in range(BOARDWIDTH):\n",
    "        for boxy in range(BOARDHEIGHT):\n",
    "            left, top = leftTopCoordsOfBox(boxx, boxy)\n",
    "            boxRect = pygame.Rect(left, top, BOXSIZE, BOXSIZE)\n",
    "            if boxRect.collidepoint(x, y):\n",
    "                return (boxx, boxy)\n",
    "    return (None, None)"
   ]
  },
  {
   "cell_type": "markdown",
   "metadata": {},
   "source": [
    "### Drawing the Icon, and Syntactic Sugar"
   ]
  },
  {
   "cell_type": "markdown",
   "metadata": {},
   "source": [
    "The drawIcon() function will draw an icon (with the specified shape and color) // add more explain @abdul-Hameed "
   ]
  },
  {
   "cell_type": "code",
   "execution_count": 13,
   "metadata": {},
   "outputs": [],
   "source": [
    "def drawIcon(shape, color, boxx, boxy):\n",
    "    quarter = int(BOXSIZE * 0.25) # syntactic sugar\n",
    "    half =    int(BOXSIZE * 0.5)  # syntactic sugar\n",
    "\n",
    "    left, top = leftTopCoordsOfBox(boxx, boxy) # get pixel coords from board coords\n",
    "    # Draw the shapes\n",
    "    if shape == DONUT:\n",
    "        pygame.draw.circle(DISPLAYSURF, color, (left + half, top + half), half - 5)\n",
    "        pygame.draw.circle(DISPLAYSURF, BGCOLOR, (left + half, top + half), quarter - 5)\n",
    "    elif shape == SQUARE:\n",
    "        pygame.draw.rect(DISPLAYSURF, color, (left + quarter, top + quarter, BOXSIZE - half, BOXSIZE - half))\n",
    "    elif shape == DIAMOND:\n",
    "        pygame.draw.polygon(DISPLAYSURF, color, ((left + half, top), (left + BOXSIZE - 1, top + half), (left + half, top + BOXSIZE - 1), (left, top + half)))\n",
    "    elif shape == LINES:\n",
    "        for i in range(0, BOXSIZE, 4):\n",
    "            pygame.draw.line(DISPLAYSURF, color, (left, top + i), (left + i, top))\n",
    "            pygame.draw.line(DISPLAYSURF, color, (left + i, top + BOXSIZE - 1), (left + BOXSIZE - 1, top + i))\n",
    "    elif shape == OVAL:\n",
    "        pygame.draw.ellipse(DISPLAYSURF, color, (left, top + quarter, BOXSIZE, half))"
   ]
  },
  {
   "cell_type": "markdown",
   "metadata": {},
   "source": [
    "#### Syntactic Sugar with Getting a Board Space’s Icon’s Shape and Color"
   ]
  },
  {
   "cell_type": "markdown",
   "metadata": {},
   "source": [
    "getShapeAndColor(board, boxx, boxy) a function with one line but to make the code more readability and easy to use "
   ]
  },
  {
   "cell_type": "code",
   "execution_count": 14,
   "metadata": {},
   "outputs": [],
   "source": [
    "def getShapeAndColor(board, boxx, boxy):\n",
    "    # shape value for x, y spot is stored in board[x][y][0]\n",
    "    # color value for x, y spot is stored in board[x][y][1]\n",
    "    return board[boxx][boxy][0], board[boxx][boxy][1]"
   ]
  },
  {
   "cell_type": "markdown",
   "metadata": {},
   "source": [
    "#### Drawing the Box Cover"
   ]
  },
  {
   "cell_type": "markdown",
   "metadata": {},
   "source": [
    "The drawBoxCovers() function has three parameters: the board data structure, a list of (X, Y) tuples for each box that should have the cover drawn, and then the amount of coverage to draw for the boxes.\n",
    "we want to use the same drawing code for each box in the boxes parameter, we will use a for loop "
   ]
  },
  {
   "cell_type": "code",
   "execution_count": 15,
   "metadata": {},
   "outputs": [],
   "source": [
    "def drawBoxCovers(board, boxes, coverage):\n",
    "    # Draws boxes being covered/revealed. \"boxes\" is a list\n",
    "    # of two-item lists, which have the x & y spot of the box.\n",
    "    for box in boxes:\n",
    "        left, top = leftTopCoordsOfBox(box[0], box[1])\n",
    "        pygame.draw.rect(DISPLAYSURF, BGCOLOR, (left, top, BOXSIZE, BOXSIZE))\n",
    "        shape, color = getShapeAndColor(board, box[0], box[1])\n",
    "        drawIcon(shape, color, box[0], box[1])\n",
    "        if coverage > 0: # only draw the cover if there is an coverage\n",
    "            pygame.draw.rect(DISPLAYSURF, BOXCOLOR, (left, top, coverage, BOXSIZE))\n",
    "    pygame.display.update()\n",
    "    FPSCLOCK.tick(FPS)"
   ]
  },
  {
   "cell_type": "markdown",
   "metadata": {},
   "source": [
    "#### Handling the Revealing and Covering Animation\n",
    "simply is just displaying different images for brief moments of time, and together they make it seem like things are moving on the screen. The revealBoxesAnimation() and coverBoxesAnimation() only need to draw an icon with a varying amount of coverage by the white box"
   ]
  },
  {
   "cell_type": "code",
   "execution_count": 16,
   "metadata": {},
   "outputs": [],
   "source": [
    "def revealBoxesAnimation(board, boxesToReveal):\n",
    "    # Do the \"box reveal\" animation.\n",
    "    for coverage in range(BOXSIZE, (-REVEALSPEED) - 1, -REVEALSPEED):\n",
    "        drawBoxCovers(board, boxesToReveal, coverage)\n",
    "\n",
    "\n",
    "def coverBoxesAnimation(board, boxesToCover):\n",
    "    # Do the \"box cover\" animation.\n",
    "    for coverage in range(0, BOXSIZE + REVEALSPEED, REVEALSPEED):\n",
    "        drawBoxCovers(board, boxesToCover, coverage)\n"
   ]
  },
  {
   "cell_type": "markdown",
   "metadata": {},
   "source": [
    "#### Drawing the Entire Board\n",
    "The drawBoard() function makes a call to drawIcon() for each of the boxes on the board. The nested for loops through every possible X and Y coordinate for the boxes, and will either draw the icon at that location or draw a white square instead (to represent a covered up box).\n"
   ]
  },
  {
   "cell_type": "code",
   "execution_count": 17,
   "metadata": {},
   "outputs": [],
   "source": [
    "def drawBoard(board, revealed):\n",
    "    # Draws all of the boxes in their covered or revealed state.\n",
    "    for boxx in range(BOARDWIDTH):\n",
    "        for boxy in range(BOARDHEIGHT):\n",
    "            left, top = leftTopCoordsOfBox(boxx, boxy)\n",
    "            if not revealed[boxx][boxy]:\n",
    "                # Draw a covered box.\n",
    "                pygame.draw.rect(DISPLAYSURF, BOXCOLOR, (left, top, BOXSIZE, BOXSIZE))\n",
    "            else:\n",
    "                # Draw the (revealed) icon.\n",
    "                shape, color = getShapeAndColor(board, boxx, boxy)\n",
    "                drawIcon(shape, color, boxx, boxy)"
   ]
  },
  {
   "cell_type": "markdown",
   "metadata": {},
   "source": [
    "#### Drawing the Highlight\n",
    "To help the player recognize that they can click on a covered box to reveal it, we will make a blue outline appear around a box to highlight it. This outline is drawn with a call to pygame.draw.rect() to make a rectangle with a width of 4 pixels"
   ]
  },
  {
   "cell_type": "code",
   "execution_count": 18,
   "metadata": {},
   "outputs": [],
   "source": [
    "def drawHighlightBox(boxx, boxy):\n",
    "    left, top = leftTopCoordsOfBox(boxx, boxy)\n",
    "    pygame.draw.rect(DISPLAYSURF, HIGHLIGHTCOLOR, (left - 5, top - 5, BOXSIZE + 10, BOXSIZE + 10), 4)\n"
   ]
  },
  {
   "cell_type": "markdown",
   "metadata": {},
   "source": [
    "#### The \"Start Game'' Animation\n",
    "The animation that plays at the beginning of the game gives the player a quick hint as to where all the icons are located.\n",
    "To change up the boxes each time a game starts, we will call the random.shuffle() \n",
    "function to randomly shuffle the order of the tuples in the boxes list"
   ]
  },
  {
   "cell_type": "markdown",
   "metadata": {},
   "source": [
    "#### Revealing and Covering the Groups of Boxes\n",
    "we draw the board. Since every value in coveredBoxes is set to False, this call to drawBoard() will end up drawing only covered up white boxes. The revealBoxesAnimation() and coverBoxesAnimation() functions will draw over the spaces of these white boxes"
   ]
  },
  {
   "cell_type": "code",
   "execution_count": 19,
   "metadata": {},
   "outputs": [],
   "source": [
    "def startGameAnimation(board):\n",
    "    # Randomly reveal the boxes 8 at a time.\n",
    "    coveredBoxes = generateRevealedBoxesData(False)\n",
    "    boxes = []\n",
    "    for x in range(BOARDWIDTH):\n",
    "        for y in range(BOARDHEIGHT):\n",
    "            boxes.append( (x, y) )\n",
    "    random.shuffle(boxes)\n",
    "    boxGroups = splitIntoGroupsOf(8, boxes)\n",
    "\n",
    "    drawBoard(board, coveredBoxes)\n",
    "    for boxGroup in boxGroups:\n",
    "        revealBoxesAnimation(board, boxGroup)\n",
    "        coverBoxesAnimation(board, boxGroup)\n"
   ]
  },
  {
   "cell_type": "markdown",
   "metadata": {},
   "source": [
    "#### The \"Game Won\" Animation\n",
    "When the player has uncovered all of the boxes by matching every pair on the board,\n",
    "we want to congratulate them by flashing the background color\n"
   ]
  },
  {
   "cell_type": "code",
   "execution_count": 20,
   "metadata": {},
   "outputs": [],
   "source": [
    "def gameWonAnimation(board):\n",
    "    # flash the background color when the player has won\n",
    "    coveredBoxes = generateRevealedBoxesData(True)\n",
    "    color1 = LIGHTBGCOLOR\n",
    "    color2 = BGCOLOR\n",
    "\n",
    "    for i in range(13):\n",
    "        color1, color2 = color2, color1 # swap colors\n",
    "        DISPLAYSURF.fill(color1)\n",
    "        drawBoard(board, coveredBoxes)\n",
    "        pygame.display.update()\n",
    "        pygame.time.wait(300)\n"
   ]
  },
  {
   "cell_type": "markdown",
   "metadata": {},
   "source": [
    "#### Telling if the Player Has Won\n",
    "The player has won the game when all of the icon pairs have been matched\n",
    "we can simply loop through every space in revealedBoxes looking for a False value. \n",
    "If even one False value is in revealedBoxes, then we know there are still unmatched icons on the board."
   ]
  },
  {
   "cell_type": "code",
   "execution_count": 21,
   "metadata": {},
   "outputs": [],
   "source": [
    "def hasWon(revealedBoxes):\n",
    "    # Returns True if all the boxes have been revealed, otherwise False\n",
    "    for i in revealedBoxes:\n",
    "        if False in i:\n",
    "            return False # return False if any boxes are covered.\n",
    "    return True"
   ]
  },
  {
   "cell_type": "code",
   "execution_count": null,
   "metadata": {},
   "outputs": [],
   "source": []
  },
  {
   "cell_type": "markdown",
   "metadata": {},
   "source": [
    "## why main ?\n",
    "It may seem pointless to have a main() function, since you could just put that code in the global scope at the bottom of the program instead, and the code would run the exact same. However, there are two good reasons to put them inside of a main() function.\n",
    "\n",
    "First, this lets you have local variables whereas otherwise the local variables in the main() function would have to become global variables. Limiting the number of global variables is a good way to keep the code simple and easier to debug. (See the “Why Global Variables are Evil” section in this chapter.)\n",
    "\n",
    "Second, this also lets you import the program so that you can call and test individual functions. If the memorypuzzle.py file is in the C:\\Python32 folder, then you can import it from the interactive shell. Type the following to test out the splitIntoGroupsOf() and getBoxAtPixel() functions to make sure they return the correct return values"
   ]
  },
  {
   "cell_type": "code",
   "execution_count": 22,
   "metadata": {},
   "outputs": [
    {
     "ename": "SystemExit",
     "evalue": "",
     "output_type": "error",
     "traceback": [
      "An exception has occurred, use %tb to see the full traceback.\n",
      "\u001b[1;31mSystemExit\u001b[0m\n"
     ]
    },
    {
     "name": "stderr",
     "output_type": "stream",
     "text": [
      "C:\\Users\\KOKO\\anaconda3\\lib\\site-packages\\IPython\\core\\interactiveshell.py:3426: UserWarning: To exit: use 'exit', 'quit', or Ctrl-D.\n",
      "  warn(\"To exit: use 'exit', 'quit', or Ctrl-D.\", stacklevel=1)\n"
     ]
    }
   ],
   "source": [
    "if __name__ == '__main__':\n",
    "    main()"
   ]
  },
  {
   "cell_type": "code",
   "execution_count": null,
   "metadata": {},
   "outputs": [],
   "source": []
  }
 ],
 "metadata": {
  "kernelspec": {
   "display_name": "Python 3",
   "language": "python",
   "name": "python3"
  },
  "language_info": {
   "codemirror_mode": {
    "name": "ipython",
    "version": 3
   },
   "file_extension": ".py",
   "mimetype": "text/x-python",
   "name": "python",
   "nbconvert_exporter": "python",
   "pygments_lexer": "ipython3",
   "version": "3.8.5"
  }
 },
 "nbformat": 4,
 "nbformat_minor": 4
}
