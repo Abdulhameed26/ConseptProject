{
 "cells": [
  {
   "cell_type": "code",
   "execution_count": null,
   "metadata": {},
   "outputs": [],
   "source": [
    " #  for event in pygame.event.get():    # event handling loop\n",
    "  #      if event.type == QUIT or (event.type == KEYUP and event.key == K_ESCAPE):\n",
    "   #         pygame.quit()\n",
    "    #        sys.exit()\n",
    "   # elif event.type == MOUSEMOTION:\n",
    "    #    mousex, mousey = event.pos\n",
    "   # elif event.type == MOUSEBUTTONUP:\n",
    "    #    mousex, mousey = event.pos\n",
    "     #   mouseClicked = True"
   ]
  },
  {
   "cell_type": "code",
   "execution_count": null,
   "metadata": {},
   "outputs": [],
   "source": [
    "#if icon1shape != icon2shape or icon1color != icon2color:\n",
    "    # Icons don't match. Re-cover up both selections.\n",
    " #   pygame.time.wait(1000) # 1000 milliseconds = 1 sec\n",
    "  #  coverBoxesAnimation(mainBoard, [(firstSelection[0], firstSelection[1]), (boxx, boxy)])\n",
    "   # revealedBoxes[firstSelection[0]][firstSelection [1]] = False\n",
    "   # revealedBoxes[boxx][boxy] = False"
   ]
  },
  {
   "cell_type": "markdown",
   "metadata": {},
   "source": [
    "# import pakage"
   ]
  },
  {
   "cell_type": "code",
   "execution_count": 9,
   "metadata": {},
   "outputs": [],
   "source": [
    "import random, pygame, sys\n",
    "from pygame.locals import *"
   ]
  },
  {
   "cell_type": "markdown",
   "metadata": {},
   "source": [
    "#### constraints for GUI"
   ]
  },
  {
   "cell_type": "markdown",
   "metadata": {},
   "source": [
    "we defined the constraints to encrease the readability of our code"
   ]
  },
  {
   "cell_type": "code",
   "execution_count": 7,
   "metadata": {},
   "outputs": [],
   "source": [
    "FPS = 30 # frames per second, the general speed of the program\n",
    "WINDOWWIDTH = 640 # size of window's width in pixels\n",
    "WINDOWHEIGHT = 480 # size of windows' height in pixels\n",
    "REVEALSPEED = 8 # speed boxes' sliding reveals and covers\n",
    "BOXSIZE = 40 # size of box height & width in pixels\n",
    "GAPSIZE = 10 # size of gap between boxes in pixels\n",
    "BOARDWIDTH = 10 # number of columns of icons\n",
    "BOARDHEIGHT = 7 # number of rows of icons"
   ]
  },
  {
   "cell_type": "markdown",
   "metadata": {},
   "source": [
    "assert keyword to ensure we have an even number, 'Board needs to have an even number of boxes for pairs of matches.' it'is appear in if result is not even "
   ]
  },
  {
   "cell_type": "code",
   "execution_count": 8,
   "metadata": {},
   "outputs": [],
   "source": [
    "assert (BOARDWIDTH * BOARDHEIGHT) % 2 == 0, 'Board needs to have an even number of boxes for pairs of matches.'"
   ]
  },
  {
   "cell_type": "markdown",
   "metadata": {},
   "source": [
    "calculation for the XMARGIN constant, how many pixels are on the side of the entire board.\\n\",\n",
    "    \"XMARGIN = int((640 – (10 * (40 + 10))) / 2) if we insted numbers with above constraints and YMARGIN  the same"
   ]
  },
  {
   "cell_type": "code",
   "execution_count": 9,
   "metadata": {},
   "outputs": [],
   "source": [
    "XMARGIN = int((WINDOWWIDTH - (BOARDWIDTH * (BOXSIZE + GAPSIZE))) / 2)\n",
    "YMARGIN = int((WINDOWHEIGHT - (BOARDHEIGHT * (BOXSIZE + GAPSIZE))) / 2)\n"
   ]
  },
  {
   "cell_type": "markdown",
   "metadata": {},
   "source": [
    "colors and shapes"
   ]
  },
  {
   "cell_type": "code",
   "execution_count": 10,
   "metadata": {},
   "outputs": [],
   "source": [
    "#            R    G    B\n",
    "GRAY     = (100, 100, 100)\n",
    "NAVYBLUE = ( 60,  60, 100)\n",
    "WHITE    = (255, 255, 255)\n",
    "RED      = (255,   0,   0)\n",
    "GREEN    = (  0, 255,   0)\n",
    "BLUE     = (  0,   0, 255)\n",
    "YELLOW   = (255, 255,   0)\n",
    "ORANGE   = (255, 128,   0)\n",
    "PURPLE   = (255,   0, 255)\n",
    "CYAN     = (  0, 255, 255)\n",
    "\n",
    "BGCOLOR = NAVYBLUE\n",
    "LIGHTBGCOLOR = GRAY\n",
    "BOXCOLOR = WHITE\n",
    "HIGHLIGHTCOLOR = BLUE\n",
    "\n",
    "DONUT = 'donut'\n",
    "SQUARE = 'square'\n",
    "DIAMOND = 'diamond'\n",
    "LINES = 'lines'\n",
    "OVAL = 'oval'\n"
   ]
  },
  {
   "cell_type": "markdown",
   "metadata": {},
   "source": [
    "ALLCOLORS = (RED, GREEN, BLUE, YELLOW, ORANGE, PURPLE, CYAN),ALLSHAPES = (DONUT, SQUARE, DIAMOND, LINES, OVAL),"
   ]
  },
  {
   "cell_type": "code",
   "execution_count": 11,
   "metadata": {},
   "outputs": [],
   "source": [
    "ALLCOLORS = (RED, GREEN, BLUE, YELLOW, ORANGE, PURPLE, CYAN)\n",
    "ALLSHAPES = (DONUT, SQUARE, DIAMOND, LINES, OVAL)\n",
    "assert len(ALLCOLORS) * len(ALLSHAPES) * 2 >= BOARDWIDTH * BOARDHEIGHT, \"Board is too big for the number of shapes/colors defined.\""
   ]
  },
  {
   "cell_type": "markdown",
   "metadata": {},
   "source": [
    "# The global statement"
   ]
  },
  {
   "cell_type": "markdown",
   "metadata": {},
   "source": [
    "define main function,\n",
    "define 2 virable and make it global FPSCLOCK, DISPLAYSURF,\n",
    "begin pygame,\n",
    "DISPLAYSURF to start the game page,\n",
    "mousex and mousey store coordinate of mouse,\n",
    "set page caption is memory game"
   ]
  },
  {
   "cell_type": "markdown",
   "metadata": {},
   "source": [
    "## The Start Game Animation"
   ]
  },
  {
   "cell_type": "markdown",
   "metadata": {},
   "source": [
    "When the player clicks on an icon on the board, the program needs to track if this was the first icon of the pair that was clicked on or the second icon.\n",
    "If firstSelection is None, the click was on the first icon and we store the XY coordinates in the firstSelection variable as a tuple of two integers (one for the X value, the other for Y).\n",
    "On the second click the value will be this tuple and not None, which is how the program tracks that it is the second icon click."
   ]
  },
  {
   "cell_type": "markdown",
   "metadata": {},
   "source": [
    "## git normalize board set boundary of board anymation"
   ]
  },
  {
   "cell_type": "markdown",
   "metadata": {},
   "source": [
    "## Handling If the Player Won"
   ]
  },
  {
   "cell_type": "markdown",
   "metadata": {},
   "source": [
    "if condition was False The program doesn’t really have to do anything elseif this was the last pair of icons on the board to be matched. This is done inside our hasWon() function, which returns True if the board is in a winning state\n",
    "then call function gameWonAnimation()\n",
    "plays the “start game” animation again\n",
    "set the firstSelection variable back to None"
   ]
  },
  {
   "cell_type": "markdown",
   "metadata": {},
   "source": [
    "# Drawing the Game State to the Screen"
   ]
  },
  {
   "cell_type": "markdown",
   "metadata": {},
   "source": [
    "the game state has been updated depending on the player’s input we call pygame.display.update() to draw the DISPLAYSURF Surface object to the computer screen. "
   ]
  },
  {
   "cell_type": "code",
   "execution_count": 1,
   "metadata": {},
   "outputs": [],
   "source": [
    "def main():\n",
    "    global FPSCLOCK, DISPLAYSURF\n",
    "    pygame.init()\n",
    "    FPSCLOCK = pygame.time.Clock()\n",
    "    DISPLAYSURF = pygame.display.set_mode((WINDOWWIDTH, WINDOWHEIGHT))\n",
    "\n",
    "    mousex = 0 # used to store x coordinate of mouse event\n",
    "    mousey = 0 # used to store y coordinate of mouse event\n",
    "    pygame.display.set_caption('Memory Game')\n",
    "\n",
    "    mainBoard = getRandomizedBoard()\n",
    "    revealedBoxes = generateRevealedBoxesData(False)\n",
    "\n",
    "    firstSelection = None # stores the (x, y) of the first box clicked.\n",
    "\n",
    "    DISPLAYSURF.fill(BGCOLOR)\n",
    "    startGameAnimation(mainBoard)\n",
    "\n",
    "    while True: # main game loop\n",
    "        mouseClicked = False\n",
    "\n",
    "        DISPLAYSURF.fill(BGCOLOR) # drawing the window\n",
    "        drawBoard(mainBoard, revealedBoxes)\n",
    "\n",
    "        for event in pygame.event.get(): # event handling loop\n",
    "            if event.type == QUIT or (event.type == KEYUP and event.key == K_ESCAPE):\n",
    "                pygame.quit()\n",
    "                sys.exit()\n",
    "            elif event.type == MOUSEMOTION:\n",
    "                mousex, mousey = event.pos\n",
    "            elif event.type == MOUSEBUTTONUP:\n",
    "                mousex, mousey = event.pos\n",
    "                mouseClicked = True\n",
    "\n",
    "        boxx, boxy = getBoxAtPixel(mousex, mousey)\n",
    "        if boxx != None and boxy != None:\n",
    "            # The mouse is currently over a box.\n",
    "            if not revealedBoxes[boxx][boxy]:\n",
    "                drawHighlightBox(boxx, boxy)\n",
    "            if not revealedBoxes[boxx][boxy] and mouseClicked:\n",
    "                revealBoxesAnimation(mainBoard, [(boxx, boxy)])\n",
    "                revealedBoxes[boxx][boxy] = True # set the box as \"revealed\"\n",
    "                if firstSelection == None: # the current box was the first box clicked\n",
    "                    firstSelection = (boxx, boxy)\n",
    "                else: # the current box was the second box clicked\n",
    "                    # Check if there is a match between the two icons.\n",
    "                    icon1shape, icon1color = getShapeAndColor(mainBoard, firstSelection[0], firstSelection[1])\n",
    "                    icon2shape, icon2color = getShapeAndColor(mainBoard, boxx, boxy)\n",
    "\n",
    "                    if icon1shape != icon2shape or icon1color != icon2color:\n",
    "                        # Icons don't match. Re-cover up both selections.\n",
    "                        pygame.time.wait(1000) # 1000 milliseconds = 1 sec\n",
    "                        coverBoxesAnimation(mainBoard, [(firstSelection[0], firstSelection[1]), (boxx, boxy)])\n",
    "                        revealedBoxes[firstSelection[0]][firstSelection[1]] = False\n",
    "                        revealedBoxes[boxx][boxy] = False\n",
    "                    elif hasWon(revealedBoxes): # check if all pairs found\n",
    "                        gameWonAnimation(mainBoard)\n",
    "                        pygame.time.wait(2000)\n",
    "\n",
    "                        # Reset the board\n",
    "                        mainBoard = getRandomizedBoard()\n",
    "                        revealedBoxes = generateRevealedBoxesData(False)\n",
    "\n",
    "                        # Show the fully unrevealed board for a second.\n",
    "                        drawBoard(mainBoard, revealedBoxes)\n",
    "                        pygame.display.update()\n",
    "                        pygame.time.wait(1000)\n",
    "\n",
    "                        # Replay the start game animation.\n",
    "                        startGameAnimation(mainBoard)\n",
    "                    firstSelection = None # reset firstSelection variable\n",
    "\n",
    "        # Redraw the screen and wait a clock tick.\n",
    "        pygame.display.update()\n",
    "        FPSCLOCK.tick(FPS)\n",
    "        # Redraw the screen and wait a clock tick.\n",
    "        pygame.display.update()\n",
    "        FPSCLOCK.tick(FPS)\n"
   ]
  },
  {
   "cell_type": "code",
   "execution_count": null,
   "metadata": {},
   "outputs": [],
   "source": []
  }
 ],
 "metadata": {
  "kernelspec": {
   "display_name": "Python 3",
   "language": "python",
   "name": "python3"
  },
  "language_info": {
   "codemirror_mode": {
    "name": "ipython",
    "version": 3
   },
   "file_extension": ".py",
   "mimetype": "text/x-python",
   "name": "python",
   "nbconvert_exporter": "python",
   "pygments_lexer": "ipython3",
   "version": "3.8.5"
  }
 },
 "nbformat": 4,
 "nbformat_minor": 4
}
