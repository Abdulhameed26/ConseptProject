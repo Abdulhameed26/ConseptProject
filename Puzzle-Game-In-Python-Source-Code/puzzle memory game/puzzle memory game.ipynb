{
 "cells": [
  {
   "cell_type": "markdown",
   "metadata": {},
   "source": [
    "# import pakage"
   ]
  },
  {
   "cell_type": "code",
   "execution_count": 9,
   "metadata": {},
   "outputs": [],
   "source": [
    "import random, pygame, sys\n",
    "from pygame.locals import *"
   ]
  },
  {
   "cell_type": "markdown",
   "metadata": {},
   "source": [
    "#### constraints for GUI"
   ]
  },
  {
   "cell_type": "markdown",
   "metadata": {},
   "source": [
    "we defined the constraints to encrease the readability of our code"
   ]
  },
  {
   "cell_type": "code",
   "execution_count": 10,
   "metadata": {},
   "outputs": [],
   "source": [
    "FPS = 30 # frames per second, the general speed of the program\n",
    "WINDOWWIDTH = 640 # size of window's width in pixels\n",
    "WINDOWHEIGHT = 480 # size of windows' height in pixels\n",
    "REVEALSPEED = 8 # speed boxes' sliding reveals and covers\n",
    "BOXSIZE = 40 # size of box height & width in pixels\n",
    "GAPSIZE = 10 # size of gap between boxes in pixels\n",
    "BOARDWIDTH = 10 # number of columns of icons\n",
    "BOARDHEIGHT = 7 # number of rows of icons\n",
    "\n"
   ]
  },
  {
   "cell_type": "markdown",
   "metadata": {},
   "source": [
    "assert keyword to ensure we have an even number, 'Board needs to have an even number of boxes for pairs of matches.' it'is appear in if result is not even "
   ]
  },
  {
   "cell_type": "code",
   "execution_count": 11,
   "metadata": {},
   "outputs": [],
   "source": [
    "assert (BOARDWIDTH * BOARDHEIGHT) % 2 == 0, 'Board needs to have an even number of boxes for pairs of matches.'"
   ]
  },
  {
   "cell_type": "markdown",
   "metadata": {},
   "source": [
    "calculation for the XMARGIN constant, how many pixels are on the side of the entire board.\\n\",\n",
    "    \"XMARGIN = int((640 – (10 * (40 + 10))) / 2) if we insted numbers with above constraints and YMARGIN  the same"
   ]
  },
  {
   "cell_type": "code",
   "execution_count": 12,
   "metadata": {},
   "outputs": [],
   "source": [
    "XMARGIN = int((WINDOWWIDTH - (BOARDWIDTH * (BOXSIZE + GAPSIZE))) / 2)\n",
    "YMARGIN = int((WINDOWHEIGHT - (BOARDHEIGHT * (BOXSIZE + GAPSIZE))) / 2)\n"
   ]
  },
  {
   "cell_type": "markdown",
   "metadata": {},
   "source": [
    "colors and shapes"
   ]
  },
  {
   "cell_type": "code",
   "execution_count": 13,
   "metadata": {},
   "outputs": [],
   "source": [
    "#            R    G    B\n",
    "GRAY     = (100, 100, 100)\n",
    "NAVYBLUE = ( 60,  60, 100)\n",
    "WHITE    = (255, 255, 255)\n",
    "RED      = (255,   0,   0)\n",
    "GREEN    = (  0, 255,   0)\n",
    "BLUE     = (  0,   0, 255)\n",
    "YELLOW   = (255, 255,   0)\n",
    "ORANGE   = (255, 128,   0)\n",
    "PURPLE   = (255,   0, 255)\n",
    "CYAN     = (  0, 255, 255)\n",
    "\n",
    "BGCOLOR = NAVYBLUE\n",
    "LIGHTBGCOLOR = GRAY\n",
    "BOXCOLOR = WHITE\n",
    "HIGHLIGHTCOLOR = BLUE\n",
    "\n",
    "DONUT = 'donut'\n",
    "SQUARE = 'square'\n",
    "DIAMOND = 'diamond'\n",
    "LINES = 'lines'\n",
    "OVAL = 'oval'\n"
   ]
  },
  {
   "cell_type": "markdown",
   "metadata": {},
   "source": [
    "ALLCOLORS = (RED, GREEN, BLUE, YELLOW, ORANGE, PURPLE, CYAN),ALLSHAPES = (DONUT, SQUARE, DIAMOND, LINES, OVAL),"
   ]
  },
  {
   "cell_type": "code",
   "execution_count": 14,
   "metadata": {},
   "outputs": [],
   "source": [
    "ALLCOLORS = (RED, GREEN, BLUE, YELLOW, ORANGE, PURPLE, CYAN)\n",
    "ALLSHAPES = (DONUT, SQUARE, DIAMOND, LINES, OVAL)\n",
    "assert len(ALLCOLORS) * len(ALLSHAPES) * 2 >= BOARDWIDTH * BOARDHEIGHT, \"Board is too big for the number of shapes/colors defined.\""
   ]
  },
  {
   "cell_type": "markdown",
   "metadata": {},
   "source": [
    "# The global statement"
   ]
  },
  {
   "cell_type": "markdown",
   "metadata": {},
   "source": [
    "define main function,\n",
    "define 2 virable and make it global FPSCLOCK, DISPLAYSURF,\n",
    "begin pygame,\n",
    "DISPLAYSURF to start the game page,\n",
    "mousex and mousey store coordinate of mouse,\n",
    "set page caption is memory game"
   ]
  },
  {
   "cell_type": "code",
   "execution_count": 15,
   "metadata": {},
   "outputs": [],
   "source": [
    "def main():\n",
    "    global FPSCLOCK, DISPLAYSURF\n",
    "    pygame.init()\n",
    "    FPSCLOCK = pygame.time.Clock()\n",
    "    DISPLAYSURF = pygame.display.set_mode((WINDOWWIDTH, WINDOWHEIGHT))\n",
    "    mousex = 0 # used to store x coordinate of mouse event\n",
    "    mousey = 0 # used to store y coordinate of mouse event\n",
    "    pygame.display.set_caption('Memory Game')"
   ]
  },
  {
   "cell_type": "markdown",
   "metadata": {},
   "source": [
    "# The Start Game Animation"
   ]
  },
  {
   "cell_type": "markdown",
   "metadata": {},
   "source": [
    "When the player clicks on an icon on the board, the program needs to track if this was the first icon of the pair that was clicked on or the second icon.\n",
    "If firstSelection is None, the click was on the first icon and we store the XY coordinates in the firstSelection variable as a tuple of two integers (one for the X value, the other for Y).\n",
    "On the second click the value will be this tuple and not None, which is how the program tracks that it is the second icon click."
   ]
  },
  {
   "cell_type": "code",
   "execution_count": 16,
   "metadata": {},
   "outputs": [
    {
     "ename": "NameError",
     "evalue": "name 'DISPLAYSURF' is not defined",
     "output_type": "error",
     "traceback": [
      "\u001b[1;31m---------------------------------------------------------------------------\u001b[0m",
      "\u001b[1;31mNameError\u001b[0m                                 Traceback (most recent call last)",
      "\u001b[1;32m<ipython-input-16-d0d992c68cf7>\u001b[0m in \u001b[0;36m<module>\u001b[1;34m\u001b[0m\n\u001b[0;32m      1\u001b[0m \u001b[0mfirstSelection\u001b[0m \u001b[1;33m=\u001b[0m \u001b[1;32mNone\u001b[0m \u001b[1;31m# stores the (x, y) of the first box clicked\u001b[0m\u001b[1;33m\u001b[0m\u001b[1;33m\u001b[0m\u001b[0m\n\u001b[1;32m----> 2\u001b[1;33m \u001b[0mDISPLAYSURF\u001b[0m\u001b[1;33m.\u001b[0m\u001b[0mfill\u001b[0m\u001b[1;33m(\u001b[0m\u001b[0mBGCOLOR\u001b[0m\u001b[1;33m)\u001b[0m\u001b[1;31m#fills the entire surface with the background color.This will also paint over anything that used to be on the surface, which gives us a clean slate to start drawing graphics on.\u001b[0m\u001b[1;33m\u001b[0m\u001b[1;33m\u001b[0m\u001b[0m\n\u001b[0m\u001b[0;32m      3\u001b[0m \u001b[0mstartGameAnimation\u001b[0m\u001b[1;33m(\u001b[0m\u001b[0mmainBoard\u001b[0m\u001b[1;33m)\u001b[0m\u001b[1;33m\u001b[0m\u001b[1;33m\u001b[0m\u001b[0m\n",
      "\u001b[1;31mNameError\u001b[0m: name 'DISPLAYSURF' is not defined"
     ]
    }
   ],
   "source": [
    "firstSelection = None # stores the (x, y) of the first box clicked\n",
    "DISPLAYSURF.fill(BGCOLOR)#fills the entire surface with the background color.This will also paint over anything that used to be on the surface, which gives us a clean slate to start drawing graphics on. \n",
    "startGameAnimation(mainBoard)"
   ]
  },
  {
   "cell_type": "markdown",
   "metadata": {},
   "source": [
    "# git normalize board set boundary of board anymation"
   ]
  },
  {
   "cell_type": "code",
   "execution_count": 17,
   "metadata": {},
   "outputs": [
    {
     "ename": "NameError",
     "evalue": "name 'getRandomizedBoard' is not defined",
     "output_type": "error",
     "traceback": [
      "\u001b[1;31m---------------------------------------------------------------------------\u001b[0m",
      "\u001b[1;31mNameError\u001b[0m                                 Traceback (most recent call last)",
      "\u001b[1;32m<ipython-input-17-c31ecce1d4d3>\u001b[0m in \u001b[0;36m<module>\u001b[1;34m\u001b[0m\n\u001b[1;32m----> 1\u001b[1;33m \u001b[0mmainBoard\u001b[0m \u001b[1;33m=\u001b[0m \u001b[0mgetRandomizedBoard\u001b[0m\u001b[1;33m(\u001b[0m\u001b[1;33m)\u001b[0m\u001b[1;33m\u001b[0m\u001b[1;33m\u001b[0m\u001b[0m\n\u001b[0m\u001b[0;32m      2\u001b[0m \u001b[0mrevealedBoxes\u001b[0m \u001b[1;33m=\u001b[0m \u001b[0mgenerateRevealedBoxesData\u001b[0m\u001b[1;33m(\u001b[0m\u001b[1;32mFalse\u001b[0m\u001b[1;33m)\u001b[0m\u001b[1;33m\u001b[0m\u001b[1;33m\u001b[0m\u001b[0m\n",
      "\u001b[1;31mNameError\u001b[0m: name 'getRandomizedBoard' is not defined"
     ]
    }
   ],
   "source": [
    "mainBoard = getRandomizedBoard()\n",
    "revealedBoxes = generateRevealedBoxesData(False)"
   ]
  },
  {
   "cell_type": "markdown",
   "metadata": {},
   "source": [
    "# Handling If the Player Won"
   ]
  },
  {
   "cell_type": "markdown",
   "metadata": {},
   "source": [
    "if condition was False The program doesn’t really have to do anything elseif this was the last pair of icons on the board to be matched. This is done inside our hasWon() function, which returns True if the board is in a winning state\n",
    "then call function gameWonAnimation()\n",
    "plays the “start game” animation again\n",
    "set the firstSelection variable back to None"
   ]
  },
  {
   "cell_type": "code",
   "execution_count": 18,
   "metadata": {},
   "outputs": [
    {
     "ename": "SyntaxError",
     "evalue": "invalid syntax (<ipython-input-18-1574a4b346e1>, line 1)",
     "output_type": "error",
     "traceback": [
      "\u001b[1;36m  File \u001b[1;32m\"<ipython-input-18-1574a4b346e1>\"\u001b[1;36m, line \u001b[1;32m1\u001b[0m\n\u001b[1;33m    elif hasWon(revealedBoxes): # check if all pairs found\u001b[0m\n\u001b[1;37m    ^\u001b[0m\n\u001b[1;31mSyntaxError\u001b[0m\u001b[1;31m:\u001b[0m invalid syntax\n"
     ]
    }
   ],
   "source": [
    "    elif hasWon(revealedBoxes): # check if all pairs found\n",
    "        gameWonAnimation(mainBoard)\n",
    "        pygame.time.wait(2000)\n",
    "        # Reset the board\n",
    "        mainBoard = getRandomizedBoard()\n",
    "        revealedBoxes = generateRevealedBoxesData(False)\n",
    "        # Show the fully unrevealed board for a second.\n",
    "        drawBoard(mainBoard, revealedBoxes)\n",
    "        pygame.display.update()\n",
    "        pygame.time.wait(1000)\n",
    "        # Replay the start game animation.\n",
    "        startGameAnimation(mainBoard)           \n",
    "        firstSelection = None # reset firstSelection variable"
   ]
  },
  {
   "cell_type": "code",
   "execution_count": null,
   "metadata": {},
   "outputs": [],
   "source": [
    " while True:            # main game loop and drawing the window \n",
    "  mouseClicked = False\n",
    "DISPLAYSURF.fill(BGCOLOR)  \n",
    "drawBoard(mainBoard, revealedBoxes)"
   ]
  }
 ],
 "metadata": {
  "kernelspec": {
   "display_name": "Python 3",
   "language": "python",
   "name": "python3"
  },
  "language_info": {
   "codemirror_mode": {
    "name": "ipython",
    "version": 3
   },
   "file_extension": ".py",
   "mimetype": "text/x-python",
   "name": "python",
   "nbconvert_exporter": "python",
   "pygments_lexer": "ipython3",
   "version": "3.8.5"
  }
 },
 "nbformat": 4,
 "nbformat_minor": 4
}
